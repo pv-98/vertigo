{
 "cells": [
  {
   "cell_type": "code",
   "execution_count": null,
   "id": "c9e44c18",
   "metadata": {},
   "outputs": [],
   "source": [
    "\n",
    "import pandas as pd\n",
    "import numpy as np\n",
    "import matplotlib.pyplot as plt\n",
    "import seaborn as sns\n",
    "from sklearn.decomposition import PCA\n",
    "from sklearn.preprocessing import StandardScaler\n",
    "import plotly.express as px\n",
    "import datetime\n",
    "\n",
    "\n",
    "df = pd.read_csv(\"Assignment_DataScientist_20250502.csv\")\n",
    "print(f\"Shape of the dataset: {df.shape}\")\n",
    "df.head()\n"
   ]
  },
  {
   "cell_type": "code",
   "execution_count": null,
   "id": "9a54c949",
   "metadata": {},
   "outputs": [],
   "source": [
    "\n",
    "df.info()\n",
    "df.isnull().sum()\n"
   ]
  },
  {
   "cell_type": "code",
   "execution_count": null,
   "id": "4dfd9b8f",
   "metadata": {},
   "outputs": [],
   "source": [
    "\n",
    "spectra_real = df.iloc[:, :56]\n",
    "spectra_imag = df.iloc[:, 56:112]\n",
    "spectra_all = pd.concat([spectra_real, spectra_imag], axis=1)\n",
    "\n",
    "meta_cols = df.columns[112:]\n",
    "metadata = df[meta_cols]\n",
    "\n",
    "\n",
    "spectra_all.describe().T[['mean', 'std']].plot(kind='barh', figsize=(10, 15), title='Spectral Channels: Mean and Std')\n",
    "plt.tight_layout()\n",
    "plt.show()\n",
    "\n"
   ]
  },
  {
   "cell_type": "code",
   "execution_count": null,
   "id": "13d5f417",
   "metadata": {},
   "outputs": [],
   "source": [
    "\n",
    "targets = ['Brix', 'TA', 'Firmness (kg)']\n",
    "fig, axs = plt.subplots(1, 3, figsize=(18, 5))\n",
    "for i, target in enumerate(targets):\n",
    "    sns.histplot(metadata[target], kde=True, ax=axs[i])\n",
    "    axs[i].set_title(f'{target} Distribution')\n",
    "plt.tight_layout()\n",
    "plt.show()\n",
    "\n"
   ]
  },
  {
   "cell_type": "code",
   "execution_count": null,
   "id": "8860d85d",
   "metadata": {},
   "outputs": [],
   "source": [
    "\n",
    "correlations = metadata[['sensorT', 'Size', 'Weight'] + targets].corr()\n",
    "#plt.figure(figsize=(10, 6))\n",
    "sns.heatmap(correlations, annot=True, cmap='coolwarm', fmt=\".2f\")\n",
    "plt.title(\"Correlation Matrix\")\n",
    "plt.show()\n"
   ]
  },
  {
   "cell_type": "code",
   "execution_count": null,
   "id": "5815a02d",
   "metadata": {},
   "outputs": [],
   "source": [
    "\n",
    "scaler = StandardScaler()\n",
    "X_scaled = scaler.fit_transform(spectra_all)\n",
    "\n",
    "pca = PCA(n_components=2)\n",
    "X_pca = pca.fit_transform(X_scaled)\n",
    "\n",
    "df_pca = pd.DataFrame(X_pca, columns=['PC1', 'PC2'])\n",
    "df_pca = pd.concat([df_pca, metadata[targets]], axis=1)\n",
    "\n",
    "#plt.figure(figsize=(5, 5))\n",
    "sns.scatterplot(data=df_pca, x='PC1', y='PC2', hue='Brix', palette='viridis')\n",
    "plt.title('PCA of Spectra Colored by Brix')\n",
    "plt.show()\n",
    "\n",
    "\n",
    "sns.scatterplot(data=df_pca, x='PC1', y='PC2', hue='TA', palette='plasma')\n",
    "plt.title('PCA of Spectra Colored by TA')\n",
    "plt.show()\n",
    "\n",
    "\n",
    "sns.scatterplot(data=df_pca, x='PC1', y='PC2', hue='Firmness (kg)', palette='coolwarm')\n",
    "plt.title('PCA of Spectra Colored by Firmness')\n",
    "plt.show()\n",
    "\n",
    "\n"
   ]
  },
  {
   "cell_type": "code",
   "execution_count": null,
   "id": "7dd3f12c",
   "metadata": {},
   "outputs": [],
   "source": [
    "\n",
    "from sklearn.manifold import TSNE\n",
    "\n",
    "tsne = TSNE(n_components=2, perplexity=30, random_state=42)\n",
    "X_tsne = tsne.fit_transform(X_scaled)\n",
    "\n",
    "df_tsne = pd.DataFrame(X_tsne, columns=['TSNE1', 'TSNE2'])\n",
    "df_tsne = pd.concat([df_tsne, metadata[targets]], axis=1)\n",
    "\n",
    "#plt.figure(figsize=(10, 6))\n",
    "sns.scatterplot(data=df_tsne, x='TSNE1', y='TSNE2', hue='Firmness (kg)', palette='coolwarm')\n",
    "plt.title(\"t-SNE of Spectra Colored by Firmness\")\n",
    "plt.show()\n"
   ]
  },
  {
   "cell_type": "code",
   "execution_count": null,
   "id": "7dced57a",
   "metadata": {},
   "outputs": [
    {
     "name": "stdout",
     "output_type": "stream",
     "text": [
      "Fruits with multiple spectra: 900 / 900\n"
     ]
    }
   ],
   "source": [
    "\n",
    "fruit_count = metadata.groupby(['Experiment', 'Fruit nr']).size()\n",
    "print(f\"Fruits with multiple spectra: {(fruit_count > 1).sum()} / {len(fruit_count)}\")\n",
    "\n",
    "\n",
    "\n"
   ]
  },
  {
   "cell_type": "code",
   "execution_count": null,
   "id": "bc3cf7c3",
   "metadata": {},
   "outputs": [],
   "source": [
    "\n",
    "spectra_target_corr = pd.DataFrame()\n",
    "\n",
    "for target in targets:\n",
    "    corr = spectra_all.corrwith(metadata[target])\n",
    "    spectra_target_corr[target] = corr\n",
    "\n",
    "spectra_target_corr.index.name = 'Spectral Feature'\n",
    "spectra_target_corr.head()\n",
    "\n"
   ]
  },
  {
   "cell_type": "code",
   "execution_count": null,
   "id": "289cf3ea",
   "metadata": {},
   "outputs": [],
   "source": [
    "\n",
    "fig, axs = plt.subplots(3, 1, figsize=(14, 10), sharex=True)\n",
    "\n",
    "for i, target in enumerate(targets):\n",
    "    axs[i].plot(spectra_target_corr.index, spectra_target_corr[target], label=f'{target} Correlation')\n",
    "    axs[i].axhline(0, color='gray', linestyle='--')\n",
    "    axs[i].set_ylabel(\"Correlation\")\n",
    "    axs[i].legend()\n",
    "    axs[i].grid(True)\n",
    "\n",
    "plt.xlabel(\"Spectral Feature Index (Real: 0–55, Imag: 56–111)\")\n",
    "plt.suptitle(\"Correlation Between Spectral Features and Targets\")\n",
    "plt.tight_layout()\n",
    "plt.show()\n",
    "\n"
   ]
  },
  {
   "cell_type": "code",
   "execution_count": null,
   "id": "a869d688",
   "metadata": {},
   "outputs": [],
   "source": [
    "\n",
    "top_features = {}\n",
    "for target in targets:\n",
    "    top_corr = spectra_target_corr[target].abs().sort_values(ascending=False).head(10)\n",
    "    top_features[target] = top_corr\n",
    "    print(f\"\\nTop correlated features for {target}:\\n{top_corr}\")\n",
    "\n"
   ]
  },
  {
   "cell_type": "code",
   "execution_count": null,
   "id": "b6c7abd3",
   "metadata": {},
   "outputs": [],
   "source": [
    "\n",
    "plt.figure(figsize=(15, 5))\n",
    "for i, target in enumerate(targets):\n",
    "    plt.subplot(1, 3, i+1)\n",
    "    sns.boxplot(data=metadata, y=target)\n",
    "    plt.title(f'Boxplot of {target} (with outliers)')\n",
    "plt.tight_layout()\n",
    "plt.show()\n"
   ]
  },
  {
   "cell_type": "code",
   "execution_count": null,
   "id": "5aaca8f2",
   "metadata": {},
   "outputs": [],
   "source": [
    "\n",
    "from scipy.stats import zscore\n",
    "\n",
    "target_zscores = metadata[targets].apply(zscore)\n",
    "outlier_mask = (np.abs(target_zscores) > 3).any(axis=1)\n",
    "\n",
    "print(f\"Number of outliers detected: {outlier_mask.sum()}\")\n"
   ]
  },
  {
   "cell_type": "code",
   "execution_count": null,
   "id": "d5d79044",
   "metadata": {},
   "outputs": [],
   "source": [
    "\n",
    "df_clean = df[~outlier_mask].reset_index(drop=True)\n",
    "print(f\"Shape before outlier removal: {df.shape}\")\n",
    "print(f\"Shape after outlier removal: {df_clean.shape}\")\n"
   ]
  },
  {
   "cell_type": "code",
   "execution_count": null,
   "id": "f87b5395",
   "metadata": {},
   "outputs": [],
   "source": [
    "\n",
    "cleaned_metadata = df_clean.iloc[:, 112:]\n",
    "\n",
    "plt.figure(figsize=(15, 5))\n",
    "for i, target in enumerate(targets):\n",
    "    plt.subplot(1, 3, i+1)\n",
    "    sns.boxplot(data=cleaned_metadata, y=target)\n",
    "    plt.title(f'Boxplot of {target} (after outlier removal)')\n",
    "plt.tight_layout()\n",
    "plt.show()\n"
   ]
  }
 ],
 "metadata": {
  "kernelspec": {
   "display_name": "cuda_acc",
   "language": "python",
   "name": "python3"
  },
  "language_info": {
   "codemirror_mode": {
    "name": "ipython",
    "version": 3
   },
   "file_extension": ".py",
   "mimetype": "text/x-python",
   "name": "python",
   "nbconvert_exporter": "python",
   "pygments_lexer": "ipython3",
   "version": "3.13.2"
  }
 },
 "nbformat": 4,
 "nbformat_minor": 5
}
